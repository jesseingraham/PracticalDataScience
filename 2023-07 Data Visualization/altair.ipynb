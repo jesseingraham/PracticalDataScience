{
 "cells": [
  {
   "cell_type": "code",
   "execution_count": null,
   "metadata": {},
   "outputs": [],
   "source": [
    "import pandas as pd\n",
    "import altair as alt\n",
    "from IPython.display import display"
   ]
  },
  {
   "cell_type": "code",
   "execution_count": null,
   "metadata": {},
   "outputs": [],
   "source": [
    "sales_joined = pd.read_parquet(\"./data/m5-forecasting-accuracy/sales-joined.parq.brotli\")\n",
    "# if your system has less RAM, the alternate download is just one year of data\n",
    "# sales_joined = pd.read_parquet(\"./data/m5-forecasting-accuracy/sales-joined-2015.parq.brotli\")"
   ]
  },
  {
   "cell_type": "code",
   "execution_count": null,
   "metadata": {},
   "outputs": [],
   "source": [
    "# fyi resource usage\n",
    "mem_gb = sales_joined.memory_usage().sum() / 1024 ** 3\n",
    "print(f\"{len(sales_joined) / 1e6:.1f} million rows using {mem_gb:.2f} GB of RAM\")"
   ]
  },
  {
   "cell_type": "markdown",
   "metadata": {},
   "source": [
    "## Bar Charts"
   ]
  },
  {
   "cell_type": "code",
   "execution_count": null,
   "metadata": {},
   "outputs": [],
   "source": [
    "total_sales_by_store = sales_joined.groupby(\"store_id\")[\"count\"].sum().reset_index()\n",
    "total_sales_by_store"
   ]
  },
  {
   "cell_type": "code",
   "execution_count": null,
   "metadata": {},
   "outputs": [],
   "source": [
    "alt.Chart(total_sales_by_store).mark_bar().encode(\n",
    "    x='store_id',\n",
    "    y='count'\n",
    ")"
   ]
  },
  {
   "cell_type": "code",
   "execution_count": null,
   "metadata": {},
   "outputs": [],
   "source": [
    "bar_chart = alt.Chart(\n",
    "    total_sales_by_store,\n",
    "    title=\"Total Sales (by store)\", # we want to add a title\n",
    ").mark_bar( # we want to plot a bar chart\n",
    "    tooltip=True, # altair supports interactivity\n",
    ").encode(\n",
    "    alt.X('store_id', title='Store ID'), # label the X axis\n",
    "    alt.Y('count', title='Total Number of Items Sold'), # label the Y axis\n",
    ").properties( # we can set the size / dimensions here\n",
    "    width=360,\n",
    "    height=150,\n",
    ")\n",
    "bar_chart # the chart must be the result of the last line or it will not display"
   ]
  },
  {
   "cell_type": "code",
   "execution_count": null,
   "metadata": {},
   "outputs": [],
   "source": [
    "display(\n",
    "    # the real magic of Altair is the interactivity\n",
    "    bar_chart.interactive() # default interaction is panning & zooming\n",
    "); # you can use IPython.display.display to force display of a non-returned chart"
   ]
  },
  {
   "cell_type": "code",
   "execution_count": null,
   "metadata": {},
   "outputs": [],
   "source": [
    "# note: bar charts are great for plotting frequency too\n",
    "item_info = sales_joined[[\"item_id\", \"dept_id\", \"cat_id\"]].drop_duplicates()\n",
    "category_counts = item_info[\"cat_id\"].value_counts().reset_index()\n",
    "category_counts.columns = [\"category\", \"count\"]\n",
    "\n",
    "display(category_counts)\n",
    "alt.Chart(\n",
    "    category_counts, title=\"Items per Category\"\n",
    ").mark_bar(tooltip=True).encode(\n",
    "    # flipping x & y give a horizontal bar chart\n",
    "    y=\"category\",\n",
    "    x=\"count\",\n",
    ").properties(\n",
    "    width=360,\n",
    "    height=150,\n",
    ")\n"
   ]
  },
  {
   "cell_type": "markdown",
   "metadata": {},
   "source": [
    "## Histograms"
   ]
  },
  {
   "cell_type": "code",
   "execution_count": null,
   "metadata": {},
   "outputs": [],
   "source": [
    "# simple histogram call...\n",
    "#alt.Chart(sales_joined, title=\"Distribution of sell_price\").mark_bar().encode(\n",
    "#    alt.X(\"sell_price:Q\", bin=True),\n",
    "#    y='count()',\n",
    "#)"
   ]
  },
  {
   "cell_type": "code",
   "execution_count": null,
   "metadata": {},
   "outputs": [],
   "source": [
    "# for large datasets, you need to do this:\n",
    "#   alt.data_transformers.disable_max_rows()\n",
    "# see the docs here: https://altair-viz.github.io/user_guide/large_datasets.html\n",
    "# basically, the whole dataset is embedded in the visualization,\n",
    "#  which gives you great interactivity\n",
    "#  but can be inefficient\n",
    "# we'll try to avoid that here"
   ]
  },
  {
   "cell_type": "code",
   "execution_count": null,
   "metadata": {},
   "outputs": [],
   "source": [
    "# histogram call: select only the data you want, and sample it\n",
    "hist = alt.Chart(\n",
    "    sales_joined[['sell_price']].sample(5_000), title=\"Distribution of sell_price\",\n",
    ").mark_bar(tooltip=True).encode(\n",
    "    alt.X(\"sell_price:Q\", bin=True),\n",
    "    y='count()',\n",
    ")\n",
    "hist"
   ]
  },
  {
   "cell_type": "code",
   "execution_count": null,
   "metadata": {},
   "outputs": [],
   "source": [
    "# increase the number of bins for a more fine-grained plot\n",
    "alt.Chart(\n",
    "    sales_joined[['sell_price']].sample(5_000), title=\"Distribution of sell_price\",\n",
    ").mark_bar(tooltip=True).encode(\n",
    "    alt.X(\"sell_price:Q\", bin=alt.Bin(maxbins=100)),\n",
    "    y='count()',\n",
    ")"
   ]
  },
  {
   "cell_type": "markdown",
   "metadata": {},
   "source": [
    "## Scatterplots"
   ]
  },
  {
   "cell_type": "code",
   "execution_count": null,
   "metadata": {},
   "outputs": [],
   "source": [
    "sales_by_store_by_month = sales_joined.groupby([\"store_id\", \"month\"])[\"count\"].sum().reset_index()\n",
    "sales_by_store_by_month[\"month_date\"] = pd.to_datetime(sales_by_store_by_month[\"month\"].astype(str), format=\"%Y%m\")\n",
    "sales_by_store_by_month.drop(columns=[\"month\"], inplace=True)\n",
    "sales_by_store_by_month[\"month_prev\"] = sales_by_store_by_month[\"month_date\"] - pd.DateOffset(months=1)\n",
    "sales_by_store_by_month = pd.merge(\n",
    "    sales_by_store_by_month, sales_by_store_by_month,\n",
    "    left_on=[\"store_id\", \"month_prev\"], right_on=[\"store_id\", \"month_date\"], suffixes=('', '_prev'),\n",
    ")"
   ]
  },
  {
   "cell_type": "code",
   "execution_count": null,
   "metadata": {},
   "outputs": [],
   "source": [
    "display(sales_by_store_by_month.head())\n",
    "\n",
    "alt.Chart(sales_by_store_by_month, title=\"N Sales (curr vs prev month)\").mark_circle(size=60).encode(\n",
    "    x='count_prev',\n",
    "    y='count',\n",
    "    color='store_id',\n",
    "    tooltip=['store_id', 'count', 'count_prev', 'month_date'],\n",
    ").interactive()"
   ]
  },
  {
   "cell_type": "markdown",
   "metadata": {},
   "source": [
    "## Timeseries Plot"
   ]
  },
  {
   "cell_type": "code",
   "execution_count": null,
   "metadata": {},
   "outputs": [],
   "source": [
    "timeseries_chart = alt.Chart(sales_by_store_by_month, title=\"N Sales over time\").mark_line(tooltip=True).encode(\n",
    "    x='month_date',\n",
    "    y='count',\n",
    "    color='store_id',\n",
    ")\n",
    "timeseries_chart"
   ]
  },
  {
   "cell_type": "markdown",
   "metadata": {},
   "source": [
    "## Multiple Charts"
   ]
  },
  {
   "cell_type": "code",
   "execution_count": null,
   "metadata": {},
   "outputs": [],
   "source": [
    "# multiple calls to \"display\" creates multiple charts\n",
    "display(bar_chart)\n",
    "display(hist)"
   ]
  },
  {
   "cell_type": "code",
   "execution_count": null,
   "metadata": {},
   "outputs": [],
   "source": [
    "# horizontal concat\n",
    "display(bar_chart | hist)"
   ]
  },
  {
   "cell_type": "code",
   "execution_count": null,
   "metadata": {},
   "outputs": [],
   "source": [
    "# vertical concat\n",
    "display(bar_chart & hist)"
   ]
  },
  {
   "cell_type": "markdown",
   "metadata": {},
   "source": [
    "## See Also\n",
    " - [Altair Examples Gallery](https://altair-viz.github.io/gallery/index.html)"
   ]
  }
 ],
 "metadata": {
  "kernelspec": {
   "display_name": "datao",
   "language": "python",
   "name": "datao"
  },
  "language_info": {
   "codemirror_mode": {
    "name": "ipython",
    "version": 3
   },
   "file_extension": ".py",
   "mimetype": "text/x-python",
   "name": "python",
   "nbconvert_exporter": "python",
   "pygments_lexer": "ipython3",
   "version": "3.10.5"
  },
  "orig_nbformat": 4
 },
 "nbformat": 4,
 "nbformat_minor": 2
}

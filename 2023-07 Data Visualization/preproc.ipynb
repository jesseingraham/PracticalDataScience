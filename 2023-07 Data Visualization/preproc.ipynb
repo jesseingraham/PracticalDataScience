{
 "cells": [
  {
   "cell_type": "code",
   "execution_count": 2,
   "metadata": {},
   "outputs": [],
   "source": [
    "from datetime import datetime\n",
    "\n",
    "import pandas as pd"
   ]
  },
  {
   "cell_type": "code",
   "execution_count": 3,
   "metadata": {},
   "outputs": [],
   "source": [
    "calendar_df = pd.read_csv(\"./data/m5-forecasting-accuracy/calendar.csv\")\n",
    "sell_prices_df = pd.read_csv(\"./data/m5-forecasting-accuracy/sell_prices.csv\")\n",
    "sales_train_validation_df = pd.read_csv(\"./data/m5-forecasting-accuracy/sales_train_validation.csv\")\n",
    "sales_train_evaluation_df = pd.read_csv(\"./data/m5-forecasting-accuracy/sales_train_evaluation.csv\")"
   ]
  },
  {
   "cell_type": "code",
   "execution_count": 4,
   "metadata": {},
   "outputs": [],
   "source": [
    "# note: \"d\" is an encoding of \"days since 2011-01-28\"\n",
    "assert ((pd.to_datetime(calendar_df[\"date\"]) - datetime(2011, 1, 28)).dt.days.map(lambda n: f\"d_{n}\") == calendar_df[\"d\"]).all()"
   ]
  },
  {
   "cell_type": "code",
   "execution_count": 5,
   "metadata": {},
   "outputs": [],
   "source": [
    "sales_unstacked = sales_train_evaluation_df.drop(columns=[\"item_id\", \"dept_id\", \"cat_id\", \"store_id\", \"state_id\"]).set_index(\"id\").unstack().reset_index()\n",
    "sales_unstacked.columns = [\"day\", \"id\", \"count\"]\n",
    "sales_unstacked[\"date\"] = datetime(2011, 1, 28) + pd.to_timedelta(sales_unstacked[\"day\"].str.removeprefix(\"d_\").astype(int), unit=\"days\")"
   ]
  },
  {
   "cell_type": "code",
   "execution_count": null,
   "metadata": {},
   "outputs": [],
   "source": [
    "sales_joined = pd.merge(sales_unstacked, sales_train_evaluation_df[[\"id\", \"item_id\", \"dept_id\", \"cat_id\", \"store_id\", \"state_id\"]], on=\"id\")\n",
    "sales_joined = pd.merge(sales_joined, calendar_df[[\"d\", \"wm_yr_wk\"]].rename(columns={\"d\": \"day\"}), on=\"day\")\n",
    "sales_joined = pd.merge(sales_joined, sell_prices_df, on=[\"item_id\", \"store_id\", \"wm_yr_wk\"], how=\"left\")\n",
    "# ensure we still have the same rows\n",
    "assert len(sales_unstacked) == len(sales_joined)"
   ]
  },
  {
   "cell_type": "code",
   "execution_count": null,
   "metadata": {},
   "outputs": [],
   "source": [
    "# convenience columns\n",
    "sales_joined[\"year\"] = sales_joined[\"date\"].dt.year\n",
    "# faster version of sales_joined[\"month\"] = sales_joined[\"date\"].dt.strftime(\"%Y%m\")\n",
    "sales_joined[\"month\"] = sales_joined[\"date\"].dt.year * 100 + sales_joined[\"date\"].dt.month"
   ]
  },
  {
   "cell_type": "code",
   "execution_count": null,
   "metadata": {},
   "outputs": [
    {
     "data": {
      "text/html": [
       "<div>\n",
       "<style scoped>\n",
       "    .dataframe tbody tr th:only-of-type {\n",
       "        vertical-align: middle;\n",
       "    }\n",
       "\n",
       "    .dataframe tbody tr th {\n",
       "        vertical-align: top;\n",
       "    }\n",
       "\n",
       "    .dataframe thead th {\n",
       "        text-align: right;\n",
       "    }\n",
       "</style>\n",
       "<table border=\"1\" class=\"dataframe\">\n",
       "  <thead>\n",
       "    <tr style=\"text-align: right;\">\n",
       "      <th></th>\n",
       "      <th>day</th>\n",
       "      <th>id</th>\n",
       "      <th>count</th>\n",
       "      <th>date</th>\n",
       "      <th>item_id</th>\n",
       "      <th>dept_id</th>\n",
       "      <th>cat_id</th>\n",
       "      <th>store_id</th>\n",
       "      <th>state_id</th>\n",
       "      <th>wm_yr_wk</th>\n",
       "      <th>sell_price</th>\n",
       "      <th>year</th>\n",
       "      <th>month</th>\n",
       "    </tr>\n",
       "  </thead>\n",
       "  <tbody>\n",
       "    <tr>\n",
       "      <th>0</th>\n",
       "      <td>d_1</td>\n",
       "      <td>HOBBIES_1_001_CA_1_evaluation</td>\n",
       "      <td>0</td>\n",
       "      <td>2011-01-29</td>\n",
       "      <td>HOBBIES_1_001</td>\n",
       "      <td>HOBBIES_1</td>\n",
       "      <td>HOBBIES</td>\n",
       "      <td>CA_1</td>\n",
       "      <td>CA</td>\n",
       "      <td>11101</td>\n",
       "      <td>NaN</td>\n",
       "      <td>2011</td>\n",
       "      <td>201101</td>\n",
       "    </tr>\n",
       "    <tr>\n",
       "      <th>1</th>\n",
       "      <td>d_1</td>\n",
       "      <td>HOBBIES_1_002_CA_1_evaluation</td>\n",
       "      <td>0</td>\n",
       "      <td>2011-01-29</td>\n",
       "      <td>HOBBIES_1_002</td>\n",
       "      <td>HOBBIES_1</td>\n",
       "      <td>HOBBIES</td>\n",
       "      <td>CA_1</td>\n",
       "      <td>CA</td>\n",
       "      <td>11101</td>\n",
       "      <td>NaN</td>\n",
       "      <td>2011</td>\n",
       "      <td>201101</td>\n",
       "    </tr>\n",
       "    <tr>\n",
       "      <th>2</th>\n",
       "      <td>d_1</td>\n",
       "      <td>HOBBIES_1_003_CA_1_evaluation</td>\n",
       "      <td>0</td>\n",
       "      <td>2011-01-29</td>\n",
       "      <td>HOBBIES_1_003</td>\n",
       "      <td>HOBBIES_1</td>\n",
       "      <td>HOBBIES</td>\n",
       "      <td>CA_1</td>\n",
       "      <td>CA</td>\n",
       "      <td>11101</td>\n",
       "      <td>NaN</td>\n",
       "      <td>2011</td>\n",
       "      <td>201101</td>\n",
       "    </tr>\n",
       "    <tr>\n",
       "      <th>3</th>\n",
       "      <td>d_1</td>\n",
       "      <td>HOBBIES_1_004_CA_1_evaluation</td>\n",
       "      <td>0</td>\n",
       "      <td>2011-01-29</td>\n",
       "      <td>HOBBIES_1_004</td>\n",
       "      <td>HOBBIES_1</td>\n",
       "      <td>HOBBIES</td>\n",
       "      <td>CA_1</td>\n",
       "      <td>CA</td>\n",
       "      <td>11101</td>\n",
       "      <td>NaN</td>\n",
       "      <td>2011</td>\n",
       "      <td>201101</td>\n",
       "    </tr>\n",
       "    <tr>\n",
       "      <th>4</th>\n",
       "      <td>d_1</td>\n",
       "      <td>HOBBIES_1_005_CA_1_evaluation</td>\n",
       "      <td>0</td>\n",
       "      <td>2011-01-29</td>\n",
       "      <td>HOBBIES_1_005</td>\n",
       "      <td>HOBBIES_1</td>\n",
       "      <td>HOBBIES</td>\n",
       "      <td>CA_1</td>\n",
       "      <td>CA</td>\n",
       "      <td>11101</td>\n",
       "      <td>NaN</td>\n",
       "      <td>2011</td>\n",
       "      <td>201101</td>\n",
       "    </tr>\n",
       "  </tbody>\n",
       "</table>\n",
       "</div>"
      ],
      "text/plain": [
       "   day                             id  count       date        item_id  \\\n",
       "0  d_1  HOBBIES_1_001_CA_1_evaluation      0 2011-01-29  HOBBIES_1_001   \n",
       "1  d_1  HOBBIES_1_002_CA_1_evaluation      0 2011-01-29  HOBBIES_1_002   \n",
       "2  d_1  HOBBIES_1_003_CA_1_evaluation      0 2011-01-29  HOBBIES_1_003   \n",
       "3  d_1  HOBBIES_1_004_CA_1_evaluation      0 2011-01-29  HOBBIES_1_004   \n",
       "4  d_1  HOBBIES_1_005_CA_1_evaluation      0 2011-01-29  HOBBIES_1_005   \n",
       "\n",
       "     dept_id   cat_id store_id state_id  wm_yr_wk  sell_price  year   month  \n",
       "0  HOBBIES_1  HOBBIES     CA_1       CA     11101         NaN  2011  201101  \n",
       "1  HOBBIES_1  HOBBIES     CA_1       CA     11101         NaN  2011  201101  \n",
       "2  HOBBIES_1  HOBBIES     CA_1       CA     11101         NaN  2011  201101  \n",
       "3  HOBBIES_1  HOBBIES     CA_1       CA     11101         NaN  2011  201101  \n",
       "4  HOBBIES_1  HOBBIES     CA_1       CA     11101         NaN  2011  201101  "
      ]
     },
     "execution_count": 7,
     "metadata": {},
     "output_type": "execute_result"
    }
   ],
   "source": [
    "sales_joined.head()"
   ]
  },
  {
   "cell_type": "code",
   "execution_count": null,
   "metadata": {},
   "outputs": [],
   "source": [
    "sales_joined.to_parquet(\"./data/m5-forecasting-accuracy/sales-joined.parq.brotli\", compression='brotli')"
   ]
  },
  {
   "cell_type": "code",
   "execution_count": null,
   "metadata": {},
   "outputs": [],
   "source": [
    "for year, subdf in sales_joined.groupby(\"year\"):\n",
    "    subdf.to_parquet(f\"./data/m5-forecasting-accuracy/sales-joined-{year}.parq.brotli\", compression='brotli')"
   ]
  }
 ],
 "metadata": {
  "kernelspec": {
   "display_name": "datao",
   "language": "python",
   "name": "datao"
  },
  "language_info": {
   "codemirror_mode": {
    "name": "ipython",
    "version": 3
   },
   "file_extension": ".py",
   "mimetype": "text/x-python",
   "name": "python",
   "nbconvert_exporter": "python",
   "pygments_lexer": "ipython3",
   "version": "3.10.5"
  },
  "orig_nbformat": 4
 },
 "nbformat": 4,
 "nbformat_minor": 2
}
